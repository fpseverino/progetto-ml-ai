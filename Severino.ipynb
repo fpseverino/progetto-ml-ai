{
  "nbformat": 4,
  "nbformat_minor": 0,
  "metadata": {
    "colab": {
      "provenance": [],
      "gpuType": "T4",
      "include_colab_link": true
    },
    "kernelspec": {
      "name": "python3",
      "display_name": "Python 3"
    },
    "language_info": {
      "name": "python"
    },
    "accelerator": "GPU"
  },
  "cells": [
    {
      "cell_type": "markdown",
      "metadata": {
        "id": "view-in-github",
        "colab_type": "text"
      },
      "source": [
        "<a href=\"https://colab.research.google.com/github/fpseverino/progetto-ml-ai/blob/main/Severino.ipynb\" target=\"_parent\"><img src=\"https://colab.research.google.com/assets/colab-badge.svg\" alt=\"Open In Colab\"/></a>"
      ]
    },
    {
      "cell_type": "code",
      "execution_count": 8,
      "metadata": {
        "id": "dLf35CffNFTo"
      },
      "outputs": [],
      "source": [
        "import numpy as np\n",
        "from matplotlib import pyplot as plt\n",
        "%matplotlib inline\n",
        "import pandas as pd\n",
        "from sklearn import preprocessing\n",
        "from sklearn.model_selection import train_test_split, cross_val_score\n",
        "from sklearn.metrics import confusion_matrix, classification_report\n",
        "from sklearn.metrics import mean_absolute_error\n",
        "from sklearn.ensemble import BaggingClassifier, BaggingRegressor\n",
        "from sklearn.ensemble import AdaBoostClassifier, AdaBoostRegressor\n",
        "from sklearn.ensemble import GradientBoostingRegressor\n",
        "from sklearn.neighbors import KNeighborsClassifier\n",
        "from sklearn.linear_model import SGDRegressor"
      ]
    },
    {
      "cell_type": "code",
      "source": [
        "class Task:\n",
        "  def __init__(self, df):\n",
        "    x = df.drop(\"Label\", axis = 1)\n",
        "    x = x.drop(\"Task\", axis = 1)\n",
        "    x = x.drop(\"Id\", axis = 1)\n",
        "    y = df[\"Label\"]\n",
        "\n",
        "    self.x_train, self.x_test, self.y_train, self.y_test = train_test_split(x, y, test_size = 0.3)"
      ],
      "metadata": {
        "id": "9IkqpWEFh13q"
      },
      "execution_count": 9,
      "outputs": []
    },
    {
      "cell_type": "code",
      "source": [
        "tasks = []\n",
        "for i in range(11, 22):\n",
        "  df = pd.read_csv(\"Task_{}_clean.csv\".format(i))\n",
        "  task = Task(df)\n",
        "  tasks.append(task)"
      ],
      "metadata": {
        "id": "S_RmKKO-Qz4H"
      },
      "execution_count": 10,
      "outputs": []
    },
    {
      "cell_type": "code",
      "source": [
        "bagging = BaggingClassifier(\n",
        "  KNeighborsClassifier(),\n",
        "  n_estimators = 10,\n",
        "  max_samples = 0.5,\n",
        "  max_features = 0.5\n",
        ")"
      ],
      "metadata": {
        "id": "xjhPnXU8UH_v"
      },
      "execution_count": 11,
      "outputs": []
    },
    {
      "cell_type": "code",
      "source": [
        "for task in tasks:\n",
        "  scores = cross_val_score(bagging, task.x_train, task.y_train)\n",
        "  print(scores.mean())"
      ],
      "metadata": {
        "id": "oIuzfJ3sUPlD",
        "outputId": "819f095b-07aa-4b2b-b8a2-245e38cbf048",
        "colab": {
          "base_uri": "https://localhost:8080/"
        }
      },
      "execution_count": 12,
      "outputs": [
        {
          "output_type": "stream",
          "name": "stdout",
          "text": [
            "0.711764705882353\n",
            "0.6830882352941177\n",
            "0.7470588235294118\n",
            "0.5426470588235295\n",
            "0.6507352941176471\n"
          ]
        },
        {
          "output_type": "stream",
          "name": "stderr",
          "text": [
            "/usr/local/lib/python3.10/dist-packages/sklearn/model_selection/_split.py:700: UserWarning: The least populated class in y has only 2 members, which is less than n_splits=5.\n",
            "  warnings.warn(\n"
          ]
        },
        {
          "output_type": "stream",
          "name": "stdout",
          "text": [
            "0.7808823529411765\n",
            "0.7352941176470589\n"
          ]
        },
        {
          "output_type": "stream",
          "name": "stderr",
          "text": [
            "/usr/local/lib/python3.10/dist-packages/sklearn/model_selection/_split.py:700: UserWarning: The least populated class in y has only 1 members, which is less than n_splits=5.\n",
            "  warnings.warn(\n"
          ]
        },
        {
          "output_type": "stream",
          "name": "stdout",
          "text": [
            "0.8441176470588235\n",
            "0.8441176470588235\n"
          ]
        },
        {
          "output_type": "stream",
          "name": "stderr",
          "text": [
            "/usr/local/lib/python3.10/dist-packages/sklearn/model_selection/_split.py:700: UserWarning: The least populated class in y has only 1 members, which is less than n_splits=5.\n",
            "  warnings.warn(\n"
          ]
        },
        {
          "output_type": "stream",
          "name": "stdout",
          "text": [
            "0.3735294117647059\n",
            "0.9279411764705883\n"
          ]
        },
        {
          "output_type": "stream",
          "name": "stderr",
          "text": [
            "/usr/local/lib/python3.10/dist-packages/sklearn/model_selection/_split.py:700: UserWarning: The least populated class in y has only 1 members, which is less than n_splits=5.\n",
            "  warnings.warn(\n"
          ]
        }
      ]
    },
    {
      "cell_type": "code",
      "source": [
        "for task in tasks:\n",
        "  bagging.fit(task.x_train, task.y_train)\n",
        "  pred = bagging.predict(task.x_test)\n",
        "\n",
        "  print(confusion_matrix(task.y_test, pred))\n",
        "  print(classification_report(task.y_test, pred))"
      ],
      "metadata": {
        "id": "43hhzlvSUS8Y",
        "outputId": "d690b042-b140-4d5c-903e-fc9d43323610",
        "colab": {
          "base_uri": "https://localhost:8080/"
        }
      },
      "execution_count": 13,
      "outputs": [
        {
          "output_type": "stream",
          "name": "stdout",
          "text": [
            "[[ 9  1  0]\n",
            " [ 2 14  2]\n",
            " [ 2  0  6]]\n",
            "              precision    recall  f1-score   support\n",
            "\n",
            "           0       0.69      0.90      0.78        10\n",
            "           1       0.93      0.78      0.85        18\n",
            "           2       0.75      0.75      0.75         8\n",
            "\n",
            "    accuracy                           0.81        36\n",
            "   macro avg       0.79      0.81      0.79        36\n",
            "weighted avg       0.83      0.81      0.81        36\n",
            "\n",
            "[[ 7  5  0]\n",
            " [ 0 12  0]\n",
            " [ 0  0 12]]\n",
            "              precision    recall  f1-score   support\n",
            "\n",
            "           0       1.00      0.58      0.74        12\n",
            "           1       0.71      1.00      0.83        12\n",
            "           2       1.00      1.00      1.00        12\n",
            "\n",
            "    accuracy                           0.86        36\n",
            "   macro avg       0.90      0.86      0.85        36\n",
            "weighted avg       0.90      0.86      0.85        36\n",
            "\n",
            "[[16  1  0]\n",
            " [ 5  7  0]\n",
            " [ 7  0  0]]\n",
            "              precision    recall  f1-score   support\n",
            "\n",
            "           0       0.57      0.94      0.71        17\n",
            "           1       0.88      0.58      0.70        12\n",
            "           2       0.00      0.00      0.00         7\n",
            "\n",
            "    accuracy                           0.64        36\n",
            "   macro avg       0.48      0.51      0.47        36\n",
            "weighted avg       0.56      0.64      0.57        36\n",
            "\n",
            "[[ 6  3  1]\n",
            " [ 1  3  7]\n",
            " [ 0  3 12]]\n",
            "              precision    recall  f1-score   support\n",
            "\n",
            "           0       0.86      0.60      0.71        10\n",
            "           1       0.33      0.27      0.30        11\n",
            "           2       0.60      0.80      0.69        15\n",
            "\n",
            "    accuracy                           0.58        36\n",
            "   macro avg       0.60      0.56      0.56        36\n",
            "weighted avg       0.59      0.58      0.57        36\n",
            "\n",
            "[[ 0  7  0]\n",
            " [ 0 18  0]\n",
            " [ 0 11  0]]\n",
            "              precision    recall  f1-score   support\n",
            "\n",
            "           0       0.00      0.00      0.00         7\n",
            "           1       0.50      1.00      0.67        18\n",
            "           2       0.00      0.00      0.00        11\n",
            "\n",
            "    accuracy                           0.50        36\n",
            "   macro avg       0.17      0.33      0.22        36\n",
            "weighted avg       0.25      0.50      0.33        36\n",
            "\n",
            "[[ 0  0  1]\n",
            " [ 0  0  9]\n",
            " [ 0  0 26]]\n",
            "              precision    recall  f1-score   support\n",
            "\n",
            "           0       0.00      0.00      0.00         1\n",
            "           1       0.00      0.00      0.00         9\n",
            "           2       0.72      1.00      0.84        26\n",
            "\n",
            "    accuracy                           0.72        36\n",
            "   macro avg       0.24      0.33      0.28        36\n",
            "weighted avg       0.52      0.72      0.61        36\n",
            "\n",
            "[[ 0  7]\n",
            " [ 0 29]]\n",
            "              precision    recall  f1-score   support\n",
            "\n",
            "           1       0.00      0.00      0.00         7\n",
            "           2       0.81      1.00      0.89        29\n",
            "\n",
            "    accuracy                           0.81        36\n",
            "   macro avg       0.40      0.50      0.45        36\n",
            "weighted avg       0.65      0.81      0.72        36\n",
            "\n",
            "[[ 0  1]\n",
            " [ 0 35]]\n",
            "              precision    recall  f1-score   support\n",
            "\n",
            "           1       0.00      0.00      0.00         1\n",
            "           2       0.97      1.00      0.99        35\n",
            "\n",
            "    accuracy                           0.97        36\n",
            "   macro avg       0.49      0.50      0.49        36\n",
            "weighted avg       0.95      0.97      0.96        36\n",
            "\n"
          ]
        },
        {
          "output_type": "stream",
          "name": "stderr",
          "text": [
            "/usr/local/lib/python3.10/dist-packages/sklearn/metrics/_classification.py:1344: UndefinedMetricWarning: Precision and F-score are ill-defined and being set to 0.0 in labels with no predicted samples. Use `zero_division` parameter to control this behavior.\n",
            "  _warn_prf(average, modifier, msg_start, len(result))\n",
            "/usr/local/lib/python3.10/dist-packages/sklearn/metrics/_classification.py:1344: UndefinedMetricWarning: Precision and F-score are ill-defined and being set to 0.0 in labels with no predicted samples. Use `zero_division` parameter to control this behavior.\n",
            "  _warn_prf(average, modifier, msg_start, len(result))\n",
            "/usr/local/lib/python3.10/dist-packages/sklearn/metrics/_classification.py:1344: UndefinedMetricWarning: Precision and F-score are ill-defined and being set to 0.0 in labels with no predicted samples. Use `zero_division` parameter to control this behavior.\n",
            "  _warn_prf(average, modifier, msg_start, len(result))\n",
            "/usr/local/lib/python3.10/dist-packages/sklearn/metrics/_classification.py:1344: UndefinedMetricWarning: Precision and F-score are ill-defined and being set to 0.0 in labels with no predicted samples. Use `zero_division` parameter to control this behavior.\n",
            "  _warn_prf(average, modifier, msg_start, len(result))\n",
            "/usr/local/lib/python3.10/dist-packages/sklearn/metrics/_classification.py:1344: UndefinedMetricWarning: Precision and F-score are ill-defined and being set to 0.0 in labels with no predicted samples. Use `zero_division` parameter to control this behavior.\n",
            "  _warn_prf(average, modifier, msg_start, len(result))\n",
            "/usr/local/lib/python3.10/dist-packages/sklearn/metrics/_classification.py:1344: UndefinedMetricWarning: Precision and F-score are ill-defined and being set to 0.0 in labels with no predicted samples. Use `zero_division` parameter to control this behavior.\n",
            "  _warn_prf(average, modifier, msg_start, len(result))\n",
            "/usr/local/lib/python3.10/dist-packages/sklearn/metrics/_classification.py:1344: UndefinedMetricWarning: Precision and F-score are ill-defined and being set to 0.0 in labels with no predicted samples. Use `zero_division` parameter to control this behavior.\n",
            "  _warn_prf(average, modifier, msg_start, len(result))\n",
            "/usr/local/lib/python3.10/dist-packages/sklearn/metrics/_classification.py:1344: UndefinedMetricWarning: Precision and F-score are ill-defined and being set to 0.0 in labels with no predicted samples. Use `zero_division` parameter to control this behavior.\n",
            "  _warn_prf(average, modifier, msg_start, len(result))\n",
            "/usr/local/lib/python3.10/dist-packages/sklearn/metrics/_classification.py:1344: UndefinedMetricWarning: Precision and F-score are ill-defined and being set to 0.0 in labels with no predicted samples. Use `zero_division` parameter to control this behavior.\n",
            "  _warn_prf(average, modifier, msg_start, len(result))\n",
            "/usr/local/lib/python3.10/dist-packages/sklearn/metrics/_classification.py:1344: UndefinedMetricWarning: Precision and F-score are ill-defined and being set to 0.0 in labels with no predicted samples. Use `zero_division` parameter to control this behavior.\n",
            "  _warn_prf(average, modifier, msg_start, len(result))\n",
            "/usr/local/lib/python3.10/dist-packages/sklearn/metrics/_classification.py:1344: UndefinedMetricWarning: Precision and F-score are ill-defined and being set to 0.0 in labels with no predicted samples. Use `zero_division` parameter to control this behavior.\n",
            "  _warn_prf(average, modifier, msg_start, len(result))\n",
            "/usr/local/lib/python3.10/dist-packages/sklearn/metrics/_classification.py:1344: UndefinedMetricWarning: Precision and F-score are ill-defined and being set to 0.0 in labels with no predicted samples. Use `zero_division` parameter to control this behavior.\n",
            "  _warn_prf(average, modifier, msg_start, len(result))\n",
            "/usr/local/lib/python3.10/dist-packages/sklearn/metrics/_classification.py:1344: UndefinedMetricWarning: Precision and F-score are ill-defined and being set to 0.0 in labels with no predicted samples. Use `zero_division` parameter to control this behavior.\n",
            "  _warn_prf(average, modifier, msg_start, len(result))\n",
            "/usr/local/lib/python3.10/dist-packages/sklearn/metrics/_classification.py:1344: UndefinedMetricWarning: Precision and F-score are ill-defined and being set to 0.0 in labels with no predicted samples. Use `zero_division` parameter to control this behavior.\n",
            "  _warn_prf(average, modifier, msg_start, len(result))\n",
            "/usr/local/lib/python3.10/dist-packages/sklearn/metrics/_classification.py:1344: UndefinedMetricWarning: Precision and F-score are ill-defined and being set to 0.0 in labels with no predicted samples. Use `zero_division` parameter to control this behavior.\n",
            "  _warn_prf(average, modifier, msg_start, len(result))\n",
            "/usr/local/lib/python3.10/dist-packages/sklearn/metrics/_classification.py:1344: UndefinedMetricWarning: Precision and F-score are ill-defined and being set to 0.0 in labels with no predicted samples. Use `zero_division` parameter to control this behavior.\n",
            "  _warn_prf(average, modifier, msg_start, len(result))\n",
            "/usr/local/lib/python3.10/dist-packages/sklearn/metrics/_classification.py:1344: UndefinedMetricWarning: Precision and F-score are ill-defined and being set to 0.0 in labels with no predicted samples. Use `zero_division` parameter to control this behavior.\n",
            "  _warn_prf(average, modifier, msg_start, len(result))\n",
            "/usr/local/lib/python3.10/dist-packages/sklearn/metrics/_classification.py:1344: UndefinedMetricWarning: Precision and F-score are ill-defined and being set to 0.0 in labels with no predicted samples. Use `zero_division` parameter to control this behavior.\n",
            "  _warn_prf(average, modifier, msg_start, len(result))\n"
          ]
        },
        {
          "output_type": "stream",
          "name": "stdout",
          "text": [
            "[[ 0  7]\n",
            " [ 0 29]]\n",
            "              precision    recall  f1-score   support\n",
            "\n",
            "           1       0.00      0.00      0.00         7\n",
            "           2       0.81      1.00      0.89        29\n",
            "\n",
            "    accuracy                           0.81        36\n",
            "   macro avg       0.40      0.50      0.45        36\n",
            "weighted avg       0.65      0.81      0.72        36\n",
            "\n",
            "[[17  0  2]\n",
            " [ 6  1  2]\n",
            " [ 8  0  0]]\n",
            "              precision    recall  f1-score   support\n",
            "\n",
            "           0       0.55      0.89      0.68        19\n",
            "           1       1.00      0.11      0.20         9\n",
            "           2       0.00      0.00      0.00         8\n",
            "\n",
            "    accuracy                           0.50        36\n",
            "   macro avg       0.52      0.34      0.29        36\n",
            "weighted avg       0.54      0.50      0.41        36\n",
            "\n",
            "[[ 0  3]\n",
            " [ 0 33]]\n",
            "              precision    recall  f1-score   support\n",
            "\n",
            "           0       0.00      0.00      0.00         3\n",
            "           2       0.92      1.00      0.96        33\n",
            "\n",
            "    accuracy                           0.92        36\n",
            "   macro avg       0.46      0.50      0.48        36\n",
            "weighted avg       0.84      0.92      0.88        36\n",
            "\n"
          ]
        },
        {
          "output_type": "stream",
          "name": "stderr",
          "text": [
            "/usr/local/lib/python3.10/dist-packages/sklearn/metrics/_classification.py:1344: UndefinedMetricWarning: Precision and F-score are ill-defined and being set to 0.0 in labels with no predicted samples. Use `zero_division` parameter to control this behavior.\n",
            "  _warn_prf(average, modifier, msg_start, len(result))\n",
            "/usr/local/lib/python3.10/dist-packages/sklearn/metrics/_classification.py:1344: UndefinedMetricWarning: Precision and F-score are ill-defined and being set to 0.0 in labels with no predicted samples. Use `zero_division` parameter to control this behavior.\n",
            "  _warn_prf(average, modifier, msg_start, len(result))\n",
            "/usr/local/lib/python3.10/dist-packages/sklearn/metrics/_classification.py:1344: UndefinedMetricWarning: Precision and F-score are ill-defined and being set to 0.0 in labels with no predicted samples. Use `zero_division` parameter to control this behavior.\n",
            "  _warn_prf(average, modifier, msg_start, len(result))\n"
          ]
        }
      ]
    },
    {
      "cell_type": "code",
      "source": [
        "bagging = BaggingRegressor(\n",
        "  SGDRegressor(),\n",
        "  n_estimators = 1000,\n",
        "  random_state = 101,\n",
        "  max_features = 0.8,\n",
        "  n_jobs = -1\n",
        ")\n",
        "\n",
        "for task in tasks:\n",
        "  bagging.fit(task.x_train, task.y_train)\n",
        "  print(mean_absolute_error(task.y_test, bagging.predict(task.x_test)))"
      ],
      "metadata": {
        "id": "pygXHDDLUlGT",
        "outputId": "6c9c56e8-788d-453c-d4d5-55a25a16d09b",
        "colab": {
          "base_uri": "https://localhost:8080/"
        }
      },
      "execution_count": 14,
      "outputs": [
        {
          "output_type": "stream",
          "name": "stdout",
          "text": [
            "1.6843166393161836e+20\n",
            "9.14424434768049e+19\n",
            "6.182621277329957e+20\n",
            "7.944547043714495e+19\n",
            "7.463931445039685e+20\n",
            "3.1988458513413715e+20\n",
            "5.449086008249871e+20\n",
            "1.0467088037461146e+20\n",
            "1.3340148355723687e+20\n",
            "5.127433808199631e+20\n",
            "6.903914478323553e+19\n"
          ]
        }
      ]
    },
    {
      "cell_type": "code",
      "source": [
        "clf = AdaBoostClassifier(n_estimators = 100)"
      ],
      "metadata": {
        "id": "na_GntyGVI-2"
      },
      "execution_count": 15,
      "outputs": []
    },
    {
      "cell_type": "code",
      "source": [
        "for task in tasks:\n",
        "  scores = cross_val_score(clf, task.x_train, task.y_train)\n",
        "  print(scores.mean())"
      ],
      "metadata": {
        "id": "rYRK4IbpVNTF",
        "outputId": "8e8f220f-32eb-422f-8812-5938755668e4",
        "colab": {
          "base_uri": "https://localhost:8080/"
        }
      },
      "execution_count": 16,
      "outputs": [
        {
          "output_type": "stream",
          "name": "stdout",
          "text": [
            "0.8551470588235294\n",
            "0.9382352941176471\n",
            "0.8066176470588236\n",
            "0.6286764705882353\n",
            "0.47205882352941175\n"
          ]
        },
        {
          "output_type": "stream",
          "name": "stderr",
          "text": [
            "/usr/local/lib/python3.10/dist-packages/sklearn/model_selection/_split.py:700: UserWarning: The least populated class in y has only 2 members, which is less than n_splits=5.\n",
            "  warnings.warn(\n"
          ]
        },
        {
          "output_type": "stream",
          "name": "stdout",
          "text": [
            "0.7323529411764705\n",
            "0.7095588235294118\n"
          ]
        },
        {
          "output_type": "stream",
          "name": "stderr",
          "text": [
            "/usr/local/lib/python3.10/dist-packages/sklearn/model_selection/_split.py:700: UserWarning: The least populated class in y has only 1 members, which is less than n_splits=5.\n",
            "  warnings.warn(\n"
          ]
        },
        {
          "output_type": "stream",
          "name": "stdout",
          "text": [
            "0.9154411764705882\n"
          ]
        },
        {
          "output_type": "stream",
          "name": "stderr",
          "text": [
            "/usr/local/lib/python3.10/dist-packages/sklearn/model_selection/_split.py:700: UserWarning: The least populated class in y has only 1 members, which is less than n_splits=5.\n",
            "  warnings.warn(\n"
          ]
        },
        {
          "output_type": "stream",
          "name": "stdout",
          "text": [
            "0.8676470588235293\n",
            "0.3625\n"
          ]
        },
        {
          "output_type": "stream",
          "name": "stderr",
          "text": [
            "/usr/local/lib/python3.10/dist-packages/sklearn/model_selection/_split.py:700: UserWarning: The least populated class in y has only 1 members, which is less than n_splits=5.\n",
            "  warnings.warn(\n"
          ]
        },
        {
          "output_type": "stream",
          "name": "stdout",
          "text": [
            "0.9882352941176471\n"
          ]
        }
      ]
    },
    {
      "cell_type": "code",
      "source": [
        "for task in tasks:\n",
        "  clf.fit(task.x_train, task.y_train)\n",
        "  pred = clf.predict(task.x_test)\n",
        "\n",
        "  print(confusion_matrix(task.y_test, pred))\n",
        "  print(classification_report(task.y_test, pred))"
      ],
      "metadata": {
        "id": "ejkWpcH8VP8A",
        "outputId": "608fd222-64aa-4015-a34d-dfbcff38e518",
        "colab": {
          "base_uri": "https://localhost:8080/"
        }
      },
      "execution_count": 17,
      "outputs": [
        {
          "output_type": "stream",
          "name": "stdout",
          "text": [
            "[[ 0 10  0]\n",
            " [ 0 18  0]\n",
            " [ 0  0  8]]\n",
            "              precision    recall  f1-score   support\n",
            "\n",
            "           0       0.00      0.00      0.00        10\n",
            "           1       0.64      1.00      0.78        18\n",
            "           2       1.00      1.00      1.00         8\n",
            "\n",
            "    accuracy                           0.72        36\n",
            "   macro avg       0.55      0.67      0.59        36\n",
            "weighted avg       0.54      0.72      0.61        36\n",
            "\n"
          ]
        },
        {
          "output_type": "stream",
          "name": "stderr",
          "text": [
            "/usr/local/lib/python3.10/dist-packages/sklearn/metrics/_classification.py:1344: UndefinedMetricWarning: Precision and F-score are ill-defined and being set to 0.0 in labels with no predicted samples. Use `zero_division` parameter to control this behavior.\n",
            "  _warn_prf(average, modifier, msg_start, len(result))\n",
            "/usr/local/lib/python3.10/dist-packages/sklearn/metrics/_classification.py:1344: UndefinedMetricWarning: Precision and F-score are ill-defined and being set to 0.0 in labels with no predicted samples. Use `zero_division` parameter to control this behavior.\n",
            "  _warn_prf(average, modifier, msg_start, len(result))\n",
            "/usr/local/lib/python3.10/dist-packages/sklearn/metrics/_classification.py:1344: UndefinedMetricWarning: Precision and F-score are ill-defined and being set to 0.0 in labels with no predicted samples. Use `zero_division` parameter to control this behavior.\n",
            "  _warn_prf(average, modifier, msg_start, len(result))\n"
          ]
        },
        {
          "output_type": "stream",
          "name": "stdout",
          "text": [
            "[[11  1  0]\n",
            " [ 0 12  0]\n",
            " [ 0  0 12]]\n",
            "              precision    recall  f1-score   support\n",
            "\n",
            "           0       1.00      0.92      0.96        12\n",
            "           1       0.92      1.00      0.96        12\n",
            "           2       1.00      1.00      1.00        12\n",
            "\n",
            "    accuracy                           0.97        36\n",
            "   macro avg       0.97      0.97      0.97        36\n",
            "weighted avg       0.97      0.97      0.97        36\n",
            "\n",
            "[[11  6  0]\n",
            " [ 1 11  0]\n",
            " [ 0  7  0]]\n",
            "              precision    recall  f1-score   support\n",
            "\n",
            "           0       0.92      0.65      0.76        17\n",
            "           1       0.46      0.92      0.61        12\n",
            "           2       0.00      0.00      0.00         7\n",
            "\n",
            "    accuracy                           0.61        36\n",
            "   macro avg       0.46      0.52      0.46        36\n",
            "weighted avg       0.59      0.61      0.56        36\n",
            "\n"
          ]
        },
        {
          "output_type": "stream",
          "name": "stderr",
          "text": [
            "/usr/local/lib/python3.10/dist-packages/sklearn/metrics/_classification.py:1344: UndefinedMetricWarning: Precision and F-score are ill-defined and being set to 0.0 in labels with no predicted samples. Use `zero_division` parameter to control this behavior.\n",
            "  _warn_prf(average, modifier, msg_start, len(result))\n",
            "/usr/local/lib/python3.10/dist-packages/sklearn/metrics/_classification.py:1344: UndefinedMetricWarning: Precision and F-score are ill-defined and being set to 0.0 in labels with no predicted samples. Use `zero_division` parameter to control this behavior.\n",
            "  _warn_prf(average, modifier, msg_start, len(result))\n",
            "/usr/local/lib/python3.10/dist-packages/sklearn/metrics/_classification.py:1344: UndefinedMetricWarning: Precision and F-score are ill-defined and being set to 0.0 in labels with no predicted samples. Use `zero_division` parameter to control this behavior.\n",
            "  _warn_prf(average, modifier, msg_start, len(result))\n"
          ]
        },
        {
          "output_type": "stream",
          "name": "stdout",
          "text": [
            "[[ 0 10  0]\n",
            " [ 0 11  0]\n",
            " [ 0  0 15]]\n",
            "              precision    recall  f1-score   support\n",
            "\n",
            "           0       0.00      0.00      0.00        10\n",
            "           1       0.52      1.00      0.69        11\n",
            "           2       1.00      1.00      1.00        15\n",
            "\n",
            "    accuracy                           0.72        36\n",
            "   macro avg       0.51      0.67      0.56        36\n",
            "weighted avg       0.58      0.72      0.63        36\n",
            "\n"
          ]
        },
        {
          "output_type": "stream",
          "name": "stderr",
          "text": [
            "/usr/local/lib/python3.10/dist-packages/sklearn/metrics/_classification.py:1344: UndefinedMetricWarning: Precision and F-score are ill-defined and being set to 0.0 in labels with no predicted samples. Use `zero_division` parameter to control this behavior.\n",
            "  _warn_prf(average, modifier, msg_start, len(result))\n",
            "/usr/local/lib/python3.10/dist-packages/sklearn/metrics/_classification.py:1344: UndefinedMetricWarning: Precision and F-score are ill-defined and being set to 0.0 in labels with no predicted samples. Use `zero_division` parameter to control this behavior.\n",
            "  _warn_prf(average, modifier, msg_start, len(result))\n",
            "/usr/local/lib/python3.10/dist-packages/sklearn/metrics/_classification.py:1344: UndefinedMetricWarning: Precision and F-score are ill-defined and being set to 0.0 in labels with no predicted samples. Use `zero_division` parameter to control this behavior.\n",
            "  _warn_prf(average, modifier, msg_start, len(result))\n"
          ]
        },
        {
          "output_type": "stream",
          "name": "stdout",
          "text": [
            "[[ 0  5  2]\n",
            " [ 0 17  1]\n",
            " [ 0  7  4]]\n",
            "              precision    recall  f1-score   support\n",
            "\n",
            "           0       0.00      0.00      0.00         7\n",
            "           1       0.59      0.94      0.72        18\n",
            "           2       0.57      0.36      0.44        11\n",
            "\n",
            "    accuracy                           0.58        36\n",
            "   macro avg       0.39      0.44      0.39        36\n",
            "weighted avg       0.47      0.58      0.50        36\n",
            "\n"
          ]
        },
        {
          "output_type": "stream",
          "name": "stderr",
          "text": [
            "/usr/local/lib/python3.10/dist-packages/sklearn/metrics/_classification.py:1344: UndefinedMetricWarning: Precision and F-score are ill-defined and being set to 0.0 in labels with no predicted samples. Use `zero_division` parameter to control this behavior.\n",
            "  _warn_prf(average, modifier, msg_start, len(result))\n",
            "/usr/local/lib/python3.10/dist-packages/sklearn/metrics/_classification.py:1344: UndefinedMetricWarning: Precision and F-score are ill-defined and being set to 0.0 in labels with no predicted samples. Use `zero_division` parameter to control this behavior.\n",
            "  _warn_prf(average, modifier, msg_start, len(result))\n",
            "/usr/local/lib/python3.10/dist-packages/sklearn/metrics/_classification.py:1344: UndefinedMetricWarning: Precision and F-score are ill-defined and being set to 0.0 in labels with no predicted samples. Use `zero_division` parameter to control this behavior.\n",
            "  _warn_prf(average, modifier, msg_start, len(result))\n"
          ]
        },
        {
          "output_type": "stream",
          "name": "stdout",
          "text": [
            "[[ 0  0  1]\n",
            " [ 1  5  3]\n",
            " [ 0  5 21]]\n",
            "              precision    recall  f1-score   support\n",
            "\n",
            "           0       0.00      0.00      0.00         1\n",
            "           1       0.50      0.56      0.53         9\n",
            "           2       0.84      0.81      0.82        26\n",
            "\n",
            "    accuracy                           0.72        36\n",
            "   macro avg       0.45      0.45      0.45        36\n",
            "weighted avg       0.73      0.72      0.73        36\n",
            "\n",
            "[[ 5  2]\n",
            " [ 2 27]]\n",
            "              precision    recall  f1-score   support\n",
            "\n",
            "           1       0.71      0.71      0.71         7\n",
            "           2       0.93      0.93      0.93        29\n",
            "\n",
            "    accuracy                           0.89        36\n",
            "   macro avg       0.82      0.82      0.82        36\n",
            "weighted avg       0.89      0.89      0.89        36\n",
            "\n",
            "[[ 0  1]\n",
            " [ 1 34]]\n",
            "              precision    recall  f1-score   support\n",
            "\n",
            "           1       0.00      0.00      0.00         1\n",
            "           2       0.97      0.97      0.97        35\n",
            "\n",
            "    accuracy                           0.94        36\n",
            "   macro avg       0.49      0.49      0.49        36\n",
            "weighted avg       0.94      0.94      0.94        36\n",
            "\n",
            "[[ 6  1]\n",
            " [ 1 28]]\n",
            "              precision    recall  f1-score   support\n",
            "\n",
            "           1       0.86      0.86      0.86         7\n",
            "           2       0.97      0.97      0.97        29\n",
            "\n",
            "    accuracy                           0.94        36\n",
            "   macro avg       0.91      0.91      0.91        36\n",
            "weighted avg       0.94      0.94      0.94        36\n",
            "\n",
            "[[15  2  2]\n",
            " [ 6  2  1]\n",
            " [ 7  0  1]]\n",
            "              precision    recall  f1-score   support\n",
            "\n",
            "           0       0.54      0.79      0.64        19\n",
            "           1       0.50      0.22      0.31         9\n",
            "           2       0.25      0.12      0.17         8\n",
            "\n",
            "    accuracy                           0.50        36\n",
            "   macro avg       0.43      0.38      0.37        36\n",
            "weighted avg       0.46      0.50      0.45        36\n",
            "\n",
            "[[ 3  0]\n",
            " [ 0 33]]\n",
            "              precision    recall  f1-score   support\n",
            "\n",
            "           0       1.00      1.00      1.00         3\n",
            "           2       1.00      1.00      1.00        33\n",
            "\n",
            "    accuracy                           1.00        36\n",
            "   macro avg       1.00      1.00      1.00        36\n",
            "weighted avg       1.00      1.00      1.00        36\n",
            "\n"
          ]
        }
      ]
    },
    {
      "cell_type": "code",
      "source": [
        "booster = AdaBoostRegressor(\n",
        "  SGDRegressor(),\n",
        "  random_state = 101,\n",
        "  n_estimators = 100\n",
        ")\n",
        "\n",
        "for task in tasks:\n",
        "  booster.fit(task.x_train, task.y_train)\n",
        "  print(mean_absolute_error(task.y_test, booster.predict(task.x_test)))"
      ],
      "metadata": {
        "id": "VAdkpA4PVbKB",
        "outputId": "a049e4b1-b13a-4fe7-bc7c-1ba6ea4ae331",
        "colab": {
          "base_uri": "https://localhost:8080/"
        }
      },
      "execution_count": 20,
      "outputs": [
        {
          "output_type": "stream",
          "name": "stdout",
          "text": [
            "2.840075224494329e+20\n",
            "1.3829334367020717e+20\n",
            "1.046072215018156e+21\n",
            "4.298934219395467e+20\n",
            "9.633364371267094e+21\n",
            "1.877410961741324e+21\n",
            "3.0685535492900184e+21\n",
            "1.1662907991933855e+21\n",
            "1.7669587440433438e+21\n",
            "4.808959341340898e+21\n",
            "4.058082432004067e+20\n"
          ]
        }
      ]
    },
    {
      "cell_type": "code",
      "source": [
        "regr = GradientBoostingRegressor(\n",
        "  n_estimators = 500,\n",
        "  learning_rate = 0.01,\n",
        "  random_state = 101\n",
        ")\n",
        "\n",
        "for task in tasks:\n",
        "  regr.fit(task.x_train, task.y_train)\n",
        "  print(mean_absolute_error(task.y_test, regr.predict(task.x_test)))"
      ],
      "metadata": {
        "id": "722TDyLXVr4P",
        "outputId": "be86ccfb-2eb9-425f-f9b2-1c5879d73644",
        "colab": {
          "base_uri": "https://localhost:8080/"
        }
      },
      "execution_count": 21,
      "outputs": [
        {
          "output_type": "stream",
          "name": "stdout",
          "text": [
            "0.08513074110665717\n",
            "0.032450561065974354\n",
            "0.32006980545266617\n",
            "0.08634231589563628\n",
            "0.42051871813842634\n",
            "0.25050991663137734\n",
            "0.18218728278578877\n",
            "0.0806588321837521\n",
            "0.17902518457077088\n",
            "0.6452622664253853\n",
            "0.02443669184111312\n"
          ]
        }
      ]
    }
  ]
}