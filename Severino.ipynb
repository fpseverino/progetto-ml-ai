{
  "nbformat": 4,
  "nbformat_minor": 0,
  "metadata": {
    "colab": {
      "provenance": [],
      "include_colab_link": true
    },
    "kernelspec": {
      "name": "python3",
      "display_name": "Python 3"
    },
    "language_info": {
      "name": "python"
    }
  },
  "cells": [
    {
      "cell_type": "markdown",
      "metadata": {
        "id": "view-in-github",
        "colab_type": "text"
      },
      "source": [
        "<a href=\"https://colab.research.google.com/github/fpseverino/progetto-ml-ai/blob/main/Severino.ipynb\" target=\"_parent\"><img src=\"https://colab.research.google.com/assets/colab-badge.svg\" alt=\"Open In Colab\"/></a>"
      ]
    },
    {
      "cell_type": "code",
      "execution_count": 56,
      "metadata": {
        "id": "dLf35CffNFTo"
      },
      "outputs": [],
      "source": [
        "import numpy as np\n",
        "from matplotlib import pyplot as plt\n",
        "%matplotlib inline\n",
        "import pandas as pd\n",
        "#from sklearn import preprocessing\n",
        "from sklearn.model_selection import train_test_split\n",
        "from sklearn.ensemble import AdaBoostClassifier, GradientBoostingClassifier, HistGradientBoostingClassifier\n",
        "from sklearn.neural_network import MLPClassifier"
      ]
    },
    {
      "cell_type": "code",
      "source": [
        "class Task:\n",
        "  def __init__(self, df):\n",
        "    self.X = df.drop(\"Label\", axis = 1)\n",
        "    self.X = self.X.drop(\"Task\", axis = 1)\n",
        "    self.X = self.X.drop(\"Id\", axis = 1)\n",
        "    self.y = df[\"Label\"]"
      ],
      "metadata": {
        "id": "9IkqpWEFh13q"
      },
      "execution_count": 57,
      "outputs": []
    },
    {
      "cell_type": "code",
      "source": [
        "tasks = []\n",
        "for i in range(11, 22):\n",
        "  df = pd.read_csv(\"Task_{}_clean.csv\".format(i))\n",
        "  task = Task(df)\n",
        "  tasks.append(task)"
      ],
      "metadata": {
        "id": "S_RmKKO-Qz4H"
      },
      "execution_count": 58,
      "outputs": []
    },
    {
      "cell_type": "code",
      "source": [
        "clf = AdaBoostClassifier(n_estimators = 100)\n",
        "\n",
        "scores = []\n",
        "\n",
        "for task in tasks:\n",
        "  clf.fit(task.X, task.y)\n",
        "  scores.append(clf.score(task.X, task.y))\n",
        "\n",
        "print(\"score:\", np.mean(scores))"
      ],
      "metadata": {
        "colab": {
          "base_uri": "https://localhost:8080/"
        },
        "id": "na_GntyGVI-2",
        "outputId": "000c63bf-cc3c-4e44-fbb0-2f52bd5774f9"
      },
      "execution_count": 59,
      "outputs": [
        {
          "output_type": "stream",
          "name": "stdout",
          "text": [
            "score: 0.8745063510766401\n"
          ]
        }
      ]
    },
    {
      "cell_type": "code",
      "source": [
        "clf = GradientBoostingClassifier(\n",
        "  n_estimators = 500,\n",
        "  learning_rate = 0.01,\n",
        "  random_state = 101\n",
        ")\n",
        "\n",
        "scores = []\n",
        "\n",
        "for task in tasks:\n",
        "  X_train, X_test, y_train, y_test = train_test_split(task.X, task.y, test_size = 0.33)\n",
        "\n",
        "  clf.fit(X_train, y_train)\n",
        "  scores.append(clf.score(X_test, y_test))\n",
        "\n",
        "print(\"score:\", np.mean(scores))"
      ],
      "metadata": {
        "colab": {
          "base_uri": "https://localhost:8080/"
        },
        "id": "722TDyLXVr4P",
        "outputId": "24dfbdf1-fa8f-4a0b-c364-bfcfc07eba14"
      },
      "execution_count": 60,
      "outputs": [
        {
          "output_type": "stream",
          "name": "stdout",
          "text": [
            "score: 0.8428321678321677\n"
          ]
        }
      ]
    },
    {
      "cell_type": "code",
      "source": [
        "clf = HistGradientBoostingClassifier()\n",
        "\n",
        "scores = []\n",
        "\n",
        "for task in tasks:\n",
        "  clf.fit(task.X, task.y)\n",
        "  scores.append(clf.score(task.X, task.y))\n",
        "\n",
        "print(\"score:\", np.mean(scores))"
      ],
      "metadata": {
        "id": "gIejO21GhzxD",
        "outputId": "863a460a-e702-4025-8af8-5ec7622d8114",
        "colab": {
          "base_uri": "https://localhost:8080/"
        }
      },
      "execution_count": 61,
      "outputs": [
        {
          "output_type": "stream",
          "name": "stdout",
          "text": [
            "score: 1.0\n"
          ]
        }
      ]
    },
    {
      "cell_type": "code",
      "source": [
        "clf = MLPClassifier(random_state = 1, max_iter = 300)\n",
        "\n",
        "scores = []\n",
        "\n",
        "for task in tasks:\n",
        "  X_train, X_test, y_train, y_test = train_test_split(task.X, task.y, test_size = 0.33)\n",
        "\n",
        "  clf.fit(X_train, y_train)\n",
        "  scores.append(clf.score(X_test, y_test))\n",
        "\n",
        "print(\"score:\", np.mean(scores))"
      ],
      "metadata": {
        "id": "x2qjfpb8qUva",
        "outputId": "5abaa9d3-b111-43af-f61c-907e93c874cb",
        "colab": {
          "base_uri": "https://localhost:8080/"
        }
      },
      "execution_count": 62,
      "outputs": [
        {
          "output_type": "stream",
          "name": "stdout",
          "text": [
            "score: 0.5258741258741259\n"
          ]
        }
      ]
    }
  ]
}