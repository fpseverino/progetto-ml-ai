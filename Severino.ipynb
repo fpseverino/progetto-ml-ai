{
  "nbformat": 4,
  "nbformat_minor": 0,
  "metadata": {
    "colab": {
      "provenance": [],
      "include_colab_link": true
    },
    "kernelspec": {
      "name": "python3",
      "display_name": "Python 3"
    },
    "language_info": {
      "name": "python"
    }
  },
  "cells": [
    {
      "cell_type": "markdown",
      "metadata": {
        "id": "view-in-github",
        "colab_type": "text"
      },
      "source": [
        "<a href=\"https://colab.research.google.com/github/fpseverino/progetto-ml-ai/blob/main/Severino.ipynb\" target=\"_parent\"><img src=\"https://colab.research.google.com/assets/colab-badge.svg\" alt=\"Open In Colab\"/></a>"
      ]
    },
    {
      "cell_type": "code",
      "execution_count": 92,
      "metadata": {
        "id": "dLf35CffNFTo"
      },
      "outputs": [],
      "source": [
        "import numpy as np\n",
        "from matplotlib import pyplot as plt\n",
        "%matplotlib inline\n",
        "import pandas as pd\n",
        "import copy\n",
        "from scipy import stats\n",
        "from sklearn.preprocessing import MinMaxScaler, StandardScaler\n",
        "from sklearn.metrics import confusion_matrix, classification_report\n",
        "from sklearn.experimental import enable_halving_search_cv\n",
        "from sklearn.model_selection import train_test_split, HalvingGridSearchCV\n",
        "from sklearn.ensemble import AdaBoostClassifier, GradientBoostingClassifier, HistGradientBoostingClassifier\n",
        "from sklearn.neural_network import MLPClassifier"
      ]
    },
    {
      "cell_type": "markdown",
      "source": [
        "# Classe Task\n",
        "Viene definita una classe `Task`, che viene inizializzata a partire da un `DataFrame` e ha come attributi `X`, `y` e le loro suddivisioni per il training e il testing.\n",
        "\n",
        "La classe contiene anche dei metodi per testare il `Task` con uno specifico classificatore e per scalare l'`X` con uno specifico scaler."
      ],
      "metadata": {
        "id": "vyzZnl7sx9mR"
      }
    },
    {
      "cell_type": "code",
      "source": [
        "class Task:\n",
        "  def __init__(self, df):\n",
        "    self.X = df.drop(\"Label\", axis = 1)\n",
        "    self.X = self.X.drop(\"Task\", axis = 1)\n",
        "    self.X = self.X.drop(\"Id\", axis = 1)\n",
        "    self.y = df[\"Label\"]\n",
        "\n",
        "    self.X_train, self.X_test, self.y_train, self.y_test = train_test_split(self.X, self.y, test_size = 0.3, random_state = 0)\n",
        "\n",
        "  def test(self, clf):\n",
        "    clf.fit(self.X_train, self.y_train)\n",
        "    return clf.score(self.X_test, self.y_test)\n",
        "\n",
        "  def scale(self, sc):\n",
        "    sc.fit(self.X_train)\n",
        "    self.X_train = sc.transform(self.X_train)\n",
        "    self.X_test = sc.transform(self.X_test)"
      ],
      "metadata": {
        "id": "9IkqpWEFh13q"
      },
      "execution_count": 93,
      "outputs": []
    },
    {
      "cell_type": "markdown",
      "source": [
        "Di seguito vengono letti i `csv` dei Task già ripuliti e vengono salvati come oggetti `Task` all'interno dell'array `tasks`."
      ],
      "metadata": {
        "id": "dJilUGyXydfq"
      }
    },
    {
      "cell_type": "code",
      "source": [
        "tasks = []\n",
        "for i in range(11, 22):\n",
        "  df = pd.read_csv(\"Task_{}_clean.csv\".format(i))\n",
        "  task = Task(df)\n",
        "  tasks.append(task)"
      ],
      "metadata": {
        "id": "S_RmKKO-Qz4H"
      },
      "execution_count": 94,
      "outputs": []
    },
    {
      "cell_type": "markdown",
      "source": [
        "# Funzione `test_boosting`\n",
        "Utilizzando il classificatore passato come argomento, viene eseguito un primo test sui task normali e successivamente un altro test sui task scalati per mezzo dello scaler passato.\n",
        "\n",
        "Infine viene raccolta la predizione per ogni sample del testing per ogni task, viene calcolata la moda attraverso tutti i task per ogni sample e viene stampata a schermo."
      ],
      "metadata": {
        "id": "IQaJFG_II9ky"
      }
    },
    {
      "cell_type": "code",
      "source": [
        "def test_boosting(clf, sc):\n",
        "  scores = []\n",
        "  for task in tasks:\n",
        "    scores.append(task.test(clf))\n",
        "  scores_mean = np.mean(scores)\n",
        "  print(\"score:\", scores_mean)\n",
        "\n",
        "  scaled_tasks = copy.deepcopy(tasks)\n",
        "  for task in scaled_tasks:\n",
        "    task.scale(sc)\n",
        "\n",
        "  scaled_scores = []\n",
        "  for task in scaled_tasks:\n",
        "    scaled_scores.append(task.test(clf))\n",
        "  scaled_scores_mean = np.mean(scaled_scores)\n",
        "  print(\"Scaled score:\", scaled_scores_mean)\n",
        "\n",
        "  votes = []\n",
        "  if scores_mean > scaled_scores_mean:\n",
        "    for task in scaled_tasks:\n",
        "      votes.append(clf.predict(task.X_test))\n",
        "  else:\n",
        "    for task in tasks:\n",
        "      votes.append(clf.predict(task.X_test))\n",
        "  mode, count = stats.mode(votes)\n",
        "  for i in range(len(mode)):\n",
        "    print(mode[i], \"| count:\", count[i])"
      ],
      "metadata": {
        "id": "Ly_dI5yqIDtg"
      },
      "execution_count": 95,
      "outputs": []
    },
    {
      "cell_type": "markdown",
      "source": [
        "# Classificatore `AdaBoost`\n",
        "Un classificatore AdaBoost è un meta-stimatore che inizia inserendo un classificatore nel set di dati originale e quindi adatta copie aggiuntive del classificatore nello stesso set di dati, ma dove i pesi delle istanze classificate in modo errato vengono regolati in modo tale che i classificatori successivi si concentrino maggiormente sui casi difficili."
      ],
      "metadata": {
        "id": "XS_RmX3-yppQ"
      }
    },
    {
      "cell_type": "code",
      "source": [
        "clf = AdaBoostClassifier(n_estimators = 100, random_state = 0)\n",
        "sc = MinMaxScaler(feature_range = (0, 1))\n",
        "test_boosting(clf, sc)"
      ],
      "metadata": {
        "colab": {
          "base_uri": "https://localhost:8080/"
        },
        "id": "na_GntyGVI-2",
        "outputId": "43777600-d545-4601-bad6-5d0b03ae0ec3"
      },
      "execution_count": 96,
      "outputs": [
        {
          "output_type": "stream",
          "name": "stdout",
          "text": [
            "score: 0.7904040404040404\n",
            "Scaled score: 0.8257575757575758\n",
            "1 | count: 8\n",
            "1 | count: 11\n",
            "1 | count: 8\n",
            "1 | count: 8\n",
            "1 | count: 9\n",
            "1 | count: 9\n",
            "1 | count: 9\n",
            "1 | count: 7\n",
            "1 | count: 6\n",
            "1 | count: 6\n",
            "1 | count: 7\n",
            "1 | count: 10\n",
            "1 | count: 9\n",
            "1 | count: 8\n",
            "1 | count: 7\n",
            "1 | count: 9\n",
            "2 | count: 6\n",
            "1 | count: 8\n",
            "1 | count: 10\n",
            "1 | count: 9\n",
            "1 | count: 6\n",
            "2 | count: 6\n",
            "1 | count: 10\n",
            "1 | count: 9\n",
            "1 | count: 9\n",
            "1 | count: 7\n",
            "2 | count: 7\n",
            "1 | count: 8\n",
            "1 | count: 10\n",
            "1 | count: 10\n",
            "1 | count: 8\n",
            "2 | count: 6\n",
            "1 | count: 9\n",
            "1 | count: 10\n",
            "1 | count: 8\n",
            "1 | count: 9\n"
          ]
        }
      ]
    },
    {
      "cell_type": "markdown",
      "source": [
        "# Classificatore Gradient Boosting\n",
        "Questo algoritmo costruisce un modello additivo in modo graduale; consente l'ottimizzazione di funzioni di perdita differenziabili arbitrarie. In ogni fase, `n_classes_` alberi di regressione sono adattati al gradiente negativo della funzione di perdita, ad es. perdita di log binaria o multiclasse."
      ],
      "metadata": {
        "id": "aScFCu9iz8w0"
      }
    },
    {
      "cell_type": "code",
      "source": [
        "clf = GradientBoostingClassifier(n_estimators = 500, learning_rate = 0.01, random_state = 0)\n",
        "sc = MinMaxScaler(feature_range = (0, 1))\n",
        "test_boosting(clf, sc)"
      ],
      "metadata": {
        "colab": {
          "base_uri": "https://localhost:8080/"
        },
        "id": "722TDyLXVr4P",
        "outputId": "45baaf76-3399-4250-c13b-eaa77fbb48bf"
      },
      "execution_count": 97,
      "outputs": [
        {
          "output_type": "stream",
          "name": "stdout",
          "text": [
            "score: 0.8762626262626263\n",
            "Scaled score: 0.8712121212121212\n",
            "2 | count: 11\n",
            "2 | count: 8\n",
            "2 | count: 11\n",
            "2 | count: 11\n",
            "2 | count: 11\n",
            "2 | count: 10\n",
            "2 | count: 11\n",
            "2 | count: 10\n",
            "2 | count: 11\n",
            "2 | count: 10\n",
            "2 | count: 10\n",
            "2 | count: 11\n",
            "2 | count: 11\n",
            "2 | count: 11\n",
            "2 | count: 11\n",
            "2 | count: 10\n",
            "2 | count: 7\n",
            "2 | count: 10\n",
            "2 | count: 10\n",
            "2 | count: 11\n",
            "2 | count: 9\n",
            "2 | count: 11\n",
            "2 | count: 11\n",
            "2 | count: 10\n",
            "2 | count: 11\n",
            "2 | count: 11\n",
            "2 | count: 11\n",
            "2 | count: 11\n",
            "2 | count: 9\n",
            "2 | count: 11\n",
            "2 | count: 11\n",
            "2 | count: 11\n",
            "2 | count: 10\n",
            "2 | count: 11\n",
            "2 | count: 11\n",
            "2 | count: 10\n"
          ]
        }
      ]
    },
    {
      "cell_type": "markdown",
      "source": [
        "# Albero di classificazione Gradient Boosting basato sugli istogrammi\n",
        "Questo stimatore ha il supporto nativo per i valori mancanti (`NaN`). Durante l'addestramento, il coltivatore di alberi impara ad ogni punto di divisione se i campioni con valori mancanti devono andare al figlio sinistro o destro, in base al potenziale guadagno. Durante la previsione, i campioni con valori mancanti vengono assegnati di conseguenza al figlio sinistro o destro. Se durante l'addestramento non sono stati rilevati valori mancanti per una determinata funzionalità, i campioni con valori mancanti vengono mappati a qualunque figlio abbia il maggior numero di campioni."
      ],
      "metadata": {
        "id": "W8OlNRpf0nxa"
      }
    },
    {
      "cell_type": "code",
      "source": [
        "clf = HistGradientBoostingClassifier(random_state = 0)\n",
        "sc = MinMaxScaler(feature_range = (0, 1))\n",
        "test_boosting(clf, sc)"
      ],
      "metadata": {
        "id": "gIejO21GhzxD",
        "outputId": "df895b64-4890-43c7-a86e-3a5e256ac41d",
        "colab": {
          "base_uri": "https://localhost:8080/"
        }
      },
      "execution_count": 98,
      "outputs": [
        {
          "output_type": "stream",
          "name": "stdout",
          "text": [
            "score: 0.8661616161616162\n",
            "Scaled score: 0.8661616161616162\n",
            "2 | count: 11\n",
            "2 | count: 11\n",
            "2 | count: 11\n",
            "2 | count: 11\n",
            "2 | count: 11\n",
            "2 | count: 11\n",
            "2 | count: 11\n",
            "2 | count: 11\n",
            "2 | count: 11\n",
            "2 | count: 11\n",
            "2 | count: 11\n",
            "2 | count: 11\n",
            "2 | count: 11\n",
            "2 | count: 11\n",
            "2 | count: 11\n",
            "2 | count: 11\n",
            "2 | count: 10\n",
            "2 | count: 11\n",
            "2 | count: 11\n",
            "2 | count: 11\n",
            "2 | count: 11\n",
            "2 | count: 11\n",
            "2 | count: 11\n",
            "2 | count: 11\n",
            "2 | count: 11\n",
            "2 | count: 11\n",
            "2 | count: 11\n",
            "2 | count: 11\n",
            "2 | count: 11\n",
            "2 | count: 11\n",
            "2 | count: 11\n",
            "2 | count: 11\n",
            "2 | count: 11\n",
            "2 | count: 11\n",
            "2 | count: 11\n",
            "2 | count: 11\n"
          ]
        }
      ]
    },
    {
      "cell_type": "markdown",
      "source": [
        "# Classificatore Percettrone multi-strato\n",
        "Vengono scalati i task tramite uno `StandardScaler`, in seguito viene eseguita una ricerca sui parametri forniti, e viene testato su tutti i task un `MLPCLassifier` con i parametri migliori.\n",
        "\n",
        "Infine viene raccolta la predizione per ogni sample del testing per ogni task, viene calcolata la moda attraverso tutti i task per ogni sample e viene stampata a schermo."
      ],
      "metadata": {
        "id": "zWQoreTm1JnL"
      }
    },
    {
      "cell_type": "code",
      "source": [
        "sc = StandardScaler()\n",
        "scaled_tasks = copy.deepcopy(tasks)\n",
        "for task in scaled_tasks:\n",
        "  task.scale(sc)\n",
        "\n",
        "parametri_mlp = {\n",
        "  'hidden_layer_sizes': [(150, 100, 50), (120, 80, 40), (100, 66, 33)],\n",
        "  'solver': ['lbfgs', 'sgd', 'adam'],\n",
        "  'alpha': [0.0001, 0.1, 100],\n",
        "  'max_iter': [100, 200, 300]\n",
        "}\n",
        "grid_mlp = HalvingGridSearchCV(MLPClassifier(), parametri_mlp, n_jobs = -1, cv = 3)\n",
        "\n",
        "scores = []\n",
        "for task in scaled_tasks:\n",
        "  grid_mlp.fit(task.X_train, task.y_train)\n",
        "\n",
        "  clf = MLPClassifier(\n",
        "    hidden_layer_sizes = grid_mlp.best_params_[\"hidden_layer_sizes\"],\n",
        "    solver = grid_mlp.best_params_[\"solver\"],\n",
        "    alpha = grid_mlp.best_params_[\"alpha\"],\n",
        "    max_iter = grid_mlp.best_params_[\"max_iter\"],\n",
        "    random_state = 0\n",
        "  )\n",
        "\n",
        "  scores.append(task.test(clf))\n",
        "print(\"score:\", np.mean(scores))\n",
        "\n",
        "votes = []\n",
        "for task in scaled_tasks:\n",
        "  votes.append(clf.predict(task.X_test))\n",
        "mode, count = stats.mode(votes)\n",
        "for i in range(len(mode)):\n",
        "  print(mode[i], \"| count:\", count[i])"
      ],
      "metadata": {
        "id": "x2qjfpb8qUva",
        "outputId": "a1a61330-4283-4a70-fc98-d99029284847",
        "colab": {
          "base_uri": "https://localhost:8080/"
        }
      },
      "execution_count": null,
      "outputs": [
        {
          "output_type": "stream",
          "name": "stdout",
          "text": [
            "score: 0.7979797979797979\n"
          ]
        }
      ]
    }
  ]
}