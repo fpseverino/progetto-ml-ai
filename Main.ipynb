{
  "nbformat": 4,
  "nbformat_minor": 0,
  "metadata": {
    "colab": {
      "provenance": [],
      "include_colab_link": true
    },
    "kernelspec": {
      "name": "python3",
      "display_name": "Python 3"
    },
    "language_info": {
      "name": "python"
    }
  },
  "cells": [
    {
      "cell_type": "markdown",
      "metadata": {
        "id": "view-in-github",
        "colab_type": "text"
      },
      "source": [
        "<a href=\"https://colab.research.google.com/github/fpseverino/progetto-ml-ai/blob/main/Main.ipynb\" target=\"_parent\"><img src=\"https://colab.research.google.com/assets/colab-badge.svg\" alt=\"Open In Colab\"/></a>"
      ]
    },
    {
      "cell_type": "code",
      "execution_count": 296,
      "metadata": {
        "id": "PhVrc7RwhBUt"
      },
      "outputs": [],
      "source": [
        "import numpy as np\n",
        "from matplotlib import pyplot as plt\n",
        "%matplotlib inline\n",
        "import pandas as pd"
      ]
    },
    {
      "cell_type": "code",
      "source": [
        "# Carica DataFrame da csv\n",
        "df = pd.read_csv(\"Task_11.csv\")\n",
        "df.shape"
      ],
      "metadata": {
        "colab": {
          "base_uri": "https://localhost:8080/"
        },
        "id": "Hl77K9EzkpZc",
        "outputId": "e31143bb-3c8d-46c8-8a63-f0445f7443a3"
      },
      "execution_count": 297,
      "outputs": [
        {
          "output_type": "execute_result",
          "data": {
            "text/plain": [
              "(145, 134)"
            ]
          },
          "metadata": {},
          "execution_count": 297
        }
      ]
    },
    {
      "cell_type": "code",
      "source": [
        "# Cancella le colonne \"Id\" e \"Task\"\n",
        "del df[\"Id\"]\n",
        "del df[\"Task\"]\n",
        "df.shape"
      ],
      "metadata": {
        "colab": {
          "base_uri": "https://localhost:8080/"
        },
        "id": "hL0t52i7k0LZ",
        "outputId": "6f30e54f-0b8c-44b3-e570-62de14e9b3da"
      },
      "execution_count": 298,
      "outputs": [
        {
          "output_type": "execute_result",
          "data": {
            "text/plain": [
              "(145, 132)"
            ]
          },
          "metadata": {},
          "execution_count": 298
        }
      ]
    },
    {
      "cell_type": "code",
      "source": [
        "# Rimuove righe con label uguale a -1\n",
        "df = df[df[\"Label\"] != -1]\n",
        "df.shape"
      ],
      "metadata": {
        "colab": {
          "base_uri": "https://localhost:8080/"
        },
        "id": "KKebXFgsltFr",
        "outputId": "5f62ecd1-cd9f-4f40-8f1a-779c6cc9a319"
      },
      "execution_count": 299,
      "outputs": [
        {
          "output_type": "execute_result",
          "data": {
            "text/plain": [
              "(119, 132)"
            ]
          },
          "metadata": {},
          "execution_count": 299
        }
      ]
    },
    {
      "cell_type": "code",
      "source": [
        "# Controlla se ci sono righe duplicate\n",
        "df.duplicated().sum()"
      ],
      "metadata": {
        "colab": {
          "base_uri": "https://localhost:8080/"
        },
        "id": "76QZA2gClY4v",
        "outputId": "bd79d7af-459f-447a-da63-d0c5cbd57191"
      },
      "execution_count": 300,
      "outputs": [
        {
          "output_type": "execute_result",
          "data": {
            "text/plain": [
              "0"
            ]
          },
          "metadata": {},
          "execution_count": 300
        }
      ]
    },
    {
      "cell_type": "code",
      "source": [
        "# Controlla se ci sono valori null\n",
        "df.isnull().sum().sum()"
      ],
      "metadata": {
        "colab": {
          "base_uri": "https://localhost:8080/"
        },
        "id": "_4duySWfmiY-",
        "outputId": "df0b5585-1a37-475f-98ee-144931c51056"
      },
      "execution_count": 301,
      "outputs": [
        {
          "output_type": "execute_result",
          "data": {
            "text/plain": [
              "0"
            ]
          },
          "metadata": {},
          "execution_count": 301
        }
      ]
    },
    {
      "cell_type": "code",
      "source": [
        "# Controlla se ci sono valori NaN\n",
        "df.isna().sum().sum()"
      ],
      "metadata": {
        "colab": {
          "base_uri": "https://localhost:8080/"
        },
        "id": "mbMzIfhzqfPN",
        "outputId": "5c5d3570-70a2-4b41-a2b3-a6366d12c186"
      },
      "execution_count": 302,
      "outputs": [
        {
          "output_type": "execute_result",
          "data": {
            "text/plain": [
              "0"
            ]
          },
          "metadata": {},
          "execution_count": 302
        }
      ]
    },
    {
      "cell_type": "code",
      "source": [
        "# Controlla tipi di dato delle feature\n",
        "print(df.dtypes)\n",
        "print(\"--------------------\")\n",
        "df.dtypes.value_counts(dropna = False)"
      ],
      "metadata": {
        "id": "3Xh29WHKccTQ",
        "outputId": "013fbaf6-67bd-4970-fbf3-33835576f328",
        "colab": {
          "base_uri": "https://localhost:8080/"
        }
      },
      "execution_count": 303,
      "outputs": [
        {
          "output_type": "stream",
          "name": "stdout",
          "text": [
            "mean:velocity:axis-x(in-air)        float64\n",
            "std:velocity:axis-x(in-air)         float64\n",
            "iqr:velocity:axis-x(in-air)         float64\n",
            "mean:velocity:axis-x(on-surface)    float64\n",
            "std:velocity:axis-x(on-surface)     float64\n",
            "                                     ...   \n",
            "number_of_interruptions_relative    float64\n",
            "Gender                               object\n",
            "Age                                 float64\n",
            "Dominant_Hand                        object\n",
            "Label                                 int64\n",
            "Length: 132, dtype: object\n",
            "--------------------\n"
          ]
        },
        {
          "output_type": "execute_result",
          "data": {
            "text/plain": [
              "float64    129\n",
              "object       2\n",
              "int64        1\n",
              "Name: count, dtype: int64"
            ]
          },
          "metadata": {},
          "execution_count": 303
        }
      ]
    },
    {
      "cell_type": "code",
      "source": [
        "# Seleziona le feature numeriche\n",
        "colonne_numeriche = df.select_dtypes(include=[np.number]).columns\n",
        "colonne_numeriche = colonne_numeriche.drop('Label')"
      ],
      "metadata": {
        "id": "gk47bRwpYPqX"
      },
      "execution_count": 304,
      "outputs": []
    },
    {
      "cell_type": "code",
      "source": [
        "# Sostituisce tutti i valori numerici pari a 0 con la media della label\n",
        "df_copy = df.copy() # Copia il DataFrame per evitare i warning\n",
        "df_copy[colonne_numeriche] = df_copy[colonne_numeriche].replace(0, pd.NA)\n",
        "df[colonne_numeriche] = df_copy.groupby('Label')[colonne_numeriche].transform(lambda x: x.fillna(x.mean()))\n",
        "df.shape"
      ],
      "metadata": {
        "colab": {
          "base_uri": "https://localhost:8080/"
        },
        "id": "x7UXXo7ooGK-",
        "outputId": "565fb449-0bee-41d9-8d27-313e87cd8d2a"
      },
      "execution_count": 305,
      "outputs": [
        {
          "output_type": "execute_result",
          "data": {
            "text/plain": [
              "(119, 132)"
            ]
          },
          "metadata": {},
          "execution_count": 305
        }
      ]
    },
    {
      "cell_type": "code",
      "source": [
        "# Controlla se ci sono valori NaN\n",
        "df.isna().sum().sum()"
      ],
      "metadata": {
        "colab": {
          "base_uri": "https://localhost:8080/"
        },
        "id": "lutT2RdDqmwM",
        "outputId": "d6a6054c-1e6c-4711-c1d1-430668c45552"
      },
      "execution_count": 306,
      "outputs": [
        {
          "output_type": "execute_result",
          "data": {
            "text/plain": [
              "0"
            ]
          },
          "metadata": {},
          "execution_count": 306
        }
      ]
    },
    {
      "cell_type": "code",
      "source": [
        "df_numeric = df[colonne_numeriche]\n",
        "\n",
        "# Calcola i percentili per ciascuna colonna numerica\n",
        "q_low = df_numeric.quantile(0.01)\n",
        "q_high = df_numeric.quantile(0.99)\n",
        "\n",
        "# Filtra i valori che sono al di fuori dei percentili convertendoli in NaN\n",
        "df_filtered = df_numeric.apply(lambda col: col[(col > q_low[col.name]) & (col < q_high[col.name])])\n",
        "\n",
        "# Ora df_filtered contiene solo i valori non outlier nelle colonne numeriche\n",
        "print(\"Shape valori numerici (label esclusa):      \", df_filtered.shape)\n",
        "\n",
        "# Seleziona solo le colonne non numeriche\n",
        "df_non_numerics = df.select_dtypes(exclude=[np.number])\n",
        "print(\"Shape valori non numerici:                  \", df_non_numerics.shape)\n",
        "\n",
        "# Unisci i due DataFrame\n",
        "df_merged = df_filtered.join(df_non_numerics)\n",
        "df = df_merged.join(df[\"Label\"])\n",
        "print(\"Shape valori numerici e non (label inclusa):\", df.shape)"
      ],
      "metadata": {
        "colab": {
          "base_uri": "https://localhost:8080/"
        },
        "id": "ud6O_SwfrQXA",
        "outputId": "ee5ef883-c156-4797-b2c7-03a198d06caf"
      },
      "execution_count": 307,
      "outputs": [
        {
          "output_type": "stream",
          "name": "stdout",
          "text": [
            "Shape valori numerici (label esclusa):       (119, 129)\n",
            "Shape valori non numerici:                   (119, 2)\n",
            "Shape valori numerici e non (label inclusa): (119, 132)\n"
          ]
        }
      ]
    },
    {
      "cell_type": "code",
      "source": [
        "# Controlla se ci sono valori NaN\n",
        "df.isna().sum().sum()"
      ],
      "metadata": {
        "colab": {
          "base_uri": "https://localhost:8080/"
        },
        "id": "09SJbKhM2QcT",
        "outputId": "a4f11a07-7b04-424f-8ba5-5913caf65208"
      },
      "execution_count": 308,
      "outputs": [
        {
          "output_type": "execute_result",
          "data": {
            "text/plain": [
              "668"
            ]
          },
          "metadata": {},
          "execution_count": 308
        }
      ]
    },
    {
      "cell_type": "code",
      "source": [
        "# Sostituisce tutti i valori numerici pari a 0 con la media della label\n",
        "df[colonne_numeriche] = df.groupby('Label')[colonne_numeriche].transform(lambda x: x.fillna(x.mean()))"
      ],
      "metadata": {
        "id": "BLTi3gq0tuUK"
      },
      "execution_count": 309,
      "outputs": []
    },
    {
      "cell_type": "code",
      "source": [
        "# Controlla se ci sono valori NaN\n",
        "df.isna().sum().sum()"
      ],
      "metadata": {
        "colab": {
          "base_uri": "https://localhost:8080/"
        },
        "id": "sS02oH-Zawd7",
        "outputId": "f80d5bc5-cc8e-4ac9-fd0d-7a43f629b897"
      },
      "execution_count": 310,
      "outputs": [
        {
          "output_type": "execute_result",
          "data": {
            "text/plain": [
              "0"
            ]
          },
          "metadata": {},
          "execution_count": 310
        }
      ]
    },
    {
      "cell_type": "code",
      "source": [
        "# Controllare valori della colonna Gender\n",
        "print(df['Gender'].value_counts())\n",
        "\n",
        "# Sostituire le stringhe con valori numerici\n",
        "df[\"Gender\"] = df.Gender.apply(lambda x: x.replace(\"Femminile\", \"0\"))\n",
        "df[\"Gender\"] = df.Gender.apply(lambda x: x.replace(\"Maschile\", \"1\"))\n",
        "\n",
        "print(\"--------------------\")\n",
        "print(df['Gender'].value_counts())\n",
        "\n",
        "# I valori rimangono di tipo \"object\" (stringhe)\n",
        "print(\"--------------------\")\n",
        "print(df.dtypes.value_counts(dropna = False))"
      ],
      "metadata": {
        "colab": {
          "base_uri": "https://localhost:8080/"
        },
        "id": "7Ltm6acwaxU3",
        "outputId": "0fd84f28-6a3f-48b7-fdbd-7e96af0a7709"
      },
      "execution_count": 311,
      "outputs": [
        {
          "output_type": "stream",
          "name": "stdout",
          "text": [
            "Gender\n",
            "Femminile    64\n",
            "Maschile     55\n",
            "Name: count, dtype: int64\n",
            "--------------------\n",
            "Gender\n",
            "0    64\n",
            "1    55\n",
            "Name: count, dtype: int64\n",
            "--------------------\n",
            "float64    129\n",
            "object       2\n",
            "int64        1\n",
            "Name: count, dtype: int64\n"
          ]
        }
      ]
    },
    {
      "cell_type": "code",
      "source": [
        "# Controllare valori della colonna Dominant_Hand\n",
        "print(df['Dominant_Hand'].value_counts())\n",
        "\n",
        "# Sostituire le stringhe con valori numerici\n",
        "df[\"Dominant_Hand\"] = df.Dominant_Hand.apply(lambda x: x.replace(\"Destra\", \"0\"))\n",
        "df[\"Dominant_Hand\"] = df.Dominant_Hand.apply(lambda x: x.replace(\"Sinistra\", \"1\"))\n",
        "\n",
        "print(\"--------------------\")\n",
        "print(df['Dominant_Hand'].value_counts())\n",
        "\n",
        "# I valori rimangono di tipo \"object\" (stringhe)\n",
        "print(\"--------------------\")\n",
        "print(df.dtypes.value_counts(dropna = False))"
      ],
      "metadata": {
        "id": "TuSTPIjmhjCG",
        "outputId": "8ba0d171-c8d6-4d4d-dc53-e86702c22e1a",
        "colab": {
          "base_uri": "https://localhost:8080/"
        }
      },
      "execution_count": 315,
      "outputs": [
        {
          "output_type": "stream",
          "name": "stdout",
          "text": [
            "Dominant_Hand\n",
            "0    106\n",
            "1     13\n",
            "Name: count, dtype: int64\n",
            "--------------------\n",
            "Dominant_Hand\n",
            "0    106\n",
            "1     13\n",
            "Name: count, dtype: int64\n",
            "--------------------\n",
            "float64    129\n",
            "object       2\n",
            "int64        1\n",
            "Name: count, dtype: int64\n"
          ]
        }
      ]
    },
    {
      "cell_type": "code",
      "source": [
        "df"
      ],
      "metadata": {
        "id": "D0opzMvgktBa",
        "outputId": "3b2d0939-40c3-45c5-e921-febc585e19e2",
        "colab": {
          "base_uri": "https://localhost:8080/",
          "height": 456
        }
      },
      "execution_count": 316,
      "outputs": [
        {
          "output_type": "execute_result",
          "data": {
            "text/plain": [
              "     mean:velocity:axis-x(in-air)  std:velocity:axis-x(in-air)  \\\n",
              "0                        0.941176                     1.939393   \n",
              "1                        0.554197                     1.699309   \n",
              "2                        1.431453                     7.981108   \n",
              "3                        1.191803                     4.646091   \n",
              "4                        1.203679                     7.271267   \n",
              "..                            ...                          ...   \n",
              "140                      0.535714                     0.901671   \n",
              "141                      1.203679                     7.271267   \n",
              "142                      1.203679                     7.271267   \n",
              "143                      1.441662                     9.626876   \n",
              "144                      1.240876                     8.437426   \n",
              "\n",
              "     iqr:velocity:axis-x(in-air)  mean:velocity:axis-x(on-surface)  \\\n",
              "0                            2.0                          0.539890   \n",
              "1                            2.0                          0.492917   \n",
              "2                            2.0                          0.755661   \n",
              "3                            2.0                          0.738685   \n",
              "4                            2.0                          0.825959   \n",
              "..                           ...                               ...   \n",
              "140                          2.0                          0.726223   \n",
              "141                          2.0                          0.806359   \n",
              "142                          2.0                          1.742432   \n",
              "143                          2.0                          0.905213   \n",
              "144                          2.0                          0.484935   \n",
              "\n",
              "     std:velocity:axis-x(on-surface)  iqr:velocity:axis-x(on-surface)  \\\n",
              "0                           0.889698                              2.0   \n",
              "1                           0.866389                              2.0   \n",
              "2                           1.020492                              2.0   \n",
              "3                           1.017430                              2.0   \n",
              "4                           1.008418                              2.0   \n",
              "..                               ...                              ...   \n",
              "140                         1.065904                              2.0   \n",
              "141                         1.051167                              2.0   \n",
              "142                         2.171070                              2.0   \n",
              "143                         1.052363                              2.0   \n",
              "144                         0.862129                              2.0   \n",
              "\n",
              "     mean:velocity:axis-y(in-air)  std:velocity:axis-y(in-air)  \\\n",
              "0                        1.272266                    12.989940   \n",
              "1                        0.942135                     5.561459   \n",
              "2                        1.325316                     5.257729   \n",
              "3                        1.022951                     4.012619   \n",
              "4                        1.096593                     5.194738   \n",
              "..                            ...                          ...   \n",
              "140                      0.828571                     1.158465   \n",
              "141                      1.125161                     5.336005   \n",
              "142                      1.096593                     5.194738   \n",
              "143                      1.150242                     4.980676   \n",
              "144                      2.671533                     4.150080   \n",
              "\n",
              "     iqr:velocity:axis-y(in-air)  mean:velocity:axis-y(on-surface)  ...  \\\n",
              "0                            2.0                          1.799633  ...   \n",
              "1                            2.0                          0.830196  ...   \n",
              "2                            2.0                          1.412322  ...   \n",
              "3                            2.0                          1.570582  ...   \n",
              "4                            2.0                          0.926909  ...   \n",
              "..                           ...                               ...  ...   \n",
              "140                          2.0                          1.333700  ...   \n",
              "141                          2.0                          0.991415  ...   \n",
              "142                          2.0                          1.453454  ...   \n",
              "143                          2.0                          1.360867  ...   \n",
              "144                          2.0                          0.902835  ...   \n",
              "\n",
              "     iqr:ratio_of_stroke_durations  writing_duration(on-surface)  \\\n",
              "0                         2.379897                        24.505   \n",
              "1                         1.499958                        25.765   \n",
              "2                         2.379897                        18.990   \n",
              "3                         0.635967                        18.560   \n",
              "4                         3.111200                        15.255   \n",
              "..                             ...                           ...   \n",
              "140                       1.307456                        18.190   \n",
              "141                       3.111200                        15.725   \n",
              "142                       3.111200                         9.745   \n",
              "143                       3.370755                        14.770   \n",
              "144                       3.370755                        28.045   \n",
              "\n",
              "     writing_duration_overall  ratio_of_writing_durations  \\\n",
              "0                      25.200                   36.036765   \n",
              "1                      31.975                    4.199674   \n",
              "2                      18.995                   28.525843   \n",
              "3                      24.765                    3.042623   \n",
              "4                      15.260                   26.049698   \n",
              "..                        ...                         ...   \n",
              "140                    19.615                   12.992857   \n",
              "141                    15.805                   20.078176   \n",
              "142                     9.750                   26.049698   \n",
              "143                    14.775                   18.845249   \n",
              "144                    28.745                   40.941606   \n",
              "\n",
              "     number_of_interruptions  number_of_interruptions_relative  Age  Gender  \\\n",
              "0                  11.936170                          0.079365  7.1       0   \n",
              "1                  14.000000                          0.437842  7.1       1   \n",
              "2                  11.909091                          0.394176  7.1       0   \n",
              "3                  20.000000                          0.807591  7.0       1   \n",
              "4                  12.823529                          0.447941  7.0       1   \n",
              "..                       ...                               ...  ...     ...   \n",
              "140                 4.000000                          0.203926  7.0       0   \n",
              "141                12.296296                          0.126542  7.0       1   \n",
              "142                12.823529                          0.447941  7.0       1   \n",
              "143                 7.428571                          0.263346  7.0       1   \n",
              "144                 8.514286                          0.069577  7.0       0   \n",
              "\n",
              "     Dominant_Hand  Label  \n",
              "0                0      1  \n",
              "1                0      1  \n",
              "2                0      1  \n",
              "3                1      0  \n",
              "4                1      0  \n",
              "..             ...    ...  \n",
              "140              0      2  \n",
              "141              0      0  \n",
              "142              0      0  \n",
              "143              0      2  \n",
              "144              0      2  \n",
              "\n",
              "[119 rows x 132 columns]"
            ],
            "text/html": [
              "\n",
              "  <div id=\"df-bc119df4-c12d-4daa-9009-b61607f86735\" class=\"colab-df-container\">\n",
              "    <div>\n",
              "<style scoped>\n",
              "    .dataframe tbody tr th:only-of-type {\n",
              "        vertical-align: middle;\n",
              "    }\n",
              "\n",
              "    .dataframe tbody tr th {\n",
              "        vertical-align: top;\n",
              "    }\n",
              "\n",
              "    .dataframe thead th {\n",
              "        text-align: right;\n",
              "    }\n",
              "</style>\n",
              "<table border=\"1\" class=\"dataframe\">\n",
              "  <thead>\n",
              "    <tr style=\"text-align: right;\">\n",
              "      <th></th>\n",
              "      <th>mean:velocity:axis-x(in-air)</th>\n",
              "      <th>std:velocity:axis-x(in-air)</th>\n",
              "      <th>iqr:velocity:axis-x(in-air)</th>\n",
              "      <th>mean:velocity:axis-x(on-surface)</th>\n",
              "      <th>std:velocity:axis-x(on-surface)</th>\n",
              "      <th>iqr:velocity:axis-x(on-surface)</th>\n",
              "      <th>mean:velocity:axis-y(in-air)</th>\n",
              "      <th>std:velocity:axis-y(in-air)</th>\n",
              "      <th>iqr:velocity:axis-y(in-air)</th>\n",
              "      <th>mean:velocity:axis-y(on-surface)</th>\n",
              "      <th>...</th>\n",
              "      <th>iqr:ratio_of_stroke_durations</th>\n",
              "      <th>writing_duration(on-surface)</th>\n",
              "      <th>writing_duration_overall</th>\n",
              "      <th>ratio_of_writing_durations</th>\n",
              "      <th>number_of_interruptions</th>\n",
              "      <th>number_of_interruptions_relative</th>\n",
              "      <th>Age</th>\n",
              "      <th>Gender</th>\n",
              "      <th>Dominant_Hand</th>\n",
              "      <th>Label</th>\n",
              "    </tr>\n",
              "  </thead>\n",
              "  <tbody>\n",
              "    <tr>\n",
              "      <th>0</th>\n",
              "      <td>0.941176</td>\n",
              "      <td>1.939393</td>\n",
              "      <td>2.0</td>\n",
              "      <td>0.539890</td>\n",
              "      <td>0.889698</td>\n",
              "      <td>2.0</td>\n",
              "      <td>1.272266</td>\n",
              "      <td>12.989940</td>\n",
              "      <td>2.0</td>\n",
              "      <td>1.799633</td>\n",
              "      <td>...</td>\n",
              "      <td>2.379897</td>\n",
              "      <td>24.505</td>\n",
              "      <td>25.200</td>\n",
              "      <td>36.036765</td>\n",
              "      <td>11.936170</td>\n",
              "      <td>0.079365</td>\n",
              "      <td>7.1</td>\n",
              "      <td>0</td>\n",
              "      <td>0</td>\n",
              "      <td>1</td>\n",
              "    </tr>\n",
              "    <tr>\n",
              "      <th>1</th>\n",
              "      <td>0.554197</td>\n",
              "      <td>1.699309</td>\n",
              "      <td>2.0</td>\n",
              "      <td>0.492917</td>\n",
              "      <td>0.866389</td>\n",
              "      <td>2.0</td>\n",
              "      <td>0.942135</td>\n",
              "      <td>5.561459</td>\n",
              "      <td>2.0</td>\n",
              "      <td>0.830196</td>\n",
              "      <td>...</td>\n",
              "      <td>1.499958</td>\n",
              "      <td>25.765</td>\n",
              "      <td>31.975</td>\n",
              "      <td>4.199674</td>\n",
              "      <td>14.000000</td>\n",
              "      <td>0.437842</td>\n",
              "      <td>7.1</td>\n",
              "      <td>1</td>\n",
              "      <td>0</td>\n",
              "      <td>1</td>\n",
              "    </tr>\n",
              "    <tr>\n",
              "      <th>2</th>\n",
              "      <td>1.431453</td>\n",
              "      <td>7.981108</td>\n",
              "      <td>2.0</td>\n",
              "      <td>0.755661</td>\n",
              "      <td>1.020492</td>\n",
              "      <td>2.0</td>\n",
              "      <td>1.325316</td>\n",
              "      <td>5.257729</td>\n",
              "      <td>2.0</td>\n",
              "      <td>1.412322</td>\n",
              "      <td>...</td>\n",
              "      <td>2.379897</td>\n",
              "      <td>18.990</td>\n",
              "      <td>18.995</td>\n",
              "      <td>28.525843</td>\n",
              "      <td>11.909091</td>\n",
              "      <td>0.394176</td>\n",
              "      <td>7.1</td>\n",
              "      <td>0</td>\n",
              "      <td>0</td>\n",
              "      <td>1</td>\n",
              "    </tr>\n",
              "    <tr>\n",
              "      <th>3</th>\n",
              "      <td>1.191803</td>\n",
              "      <td>4.646091</td>\n",
              "      <td>2.0</td>\n",
              "      <td>0.738685</td>\n",
              "      <td>1.017430</td>\n",
              "      <td>2.0</td>\n",
              "      <td>1.022951</td>\n",
              "      <td>4.012619</td>\n",
              "      <td>2.0</td>\n",
              "      <td>1.570582</td>\n",
              "      <td>...</td>\n",
              "      <td>0.635967</td>\n",
              "      <td>18.560</td>\n",
              "      <td>24.765</td>\n",
              "      <td>3.042623</td>\n",
              "      <td>20.000000</td>\n",
              "      <td>0.807591</td>\n",
              "      <td>7.0</td>\n",
              "      <td>1</td>\n",
              "      <td>1</td>\n",
              "      <td>0</td>\n",
              "    </tr>\n",
              "    <tr>\n",
              "      <th>4</th>\n",
              "      <td>1.203679</td>\n",
              "      <td>7.271267</td>\n",
              "      <td>2.0</td>\n",
              "      <td>0.825959</td>\n",
              "      <td>1.008418</td>\n",
              "      <td>2.0</td>\n",
              "      <td>1.096593</td>\n",
              "      <td>5.194738</td>\n",
              "      <td>2.0</td>\n",
              "      <td>0.926909</td>\n",
              "      <td>...</td>\n",
              "      <td>3.111200</td>\n",
              "      <td>15.255</td>\n",
              "      <td>15.260</td>\n",
              "      <td>26.049698</td>\n",
              "      <td>12.823529</td>\n",
              "      <td>0.447941</td>\n",
              "      <td>7.0</td>\n",
              "      <td>1</td>\n",
              "      <td>1</td>\n",
              "      <td>0</td>\n",
              "    </tr>\n",
              "    <tr>\n",
              "      <th>...</th>\n",
              "      <td>...</td>\n",
              "      <td>...</td>\n",
              "      <td>...</td>\n",
              "      <td>...</td>\n",
              "      <td>...</td>\n",
              "      <td>...</td>\n",
              "      <td>...</td>\n",
              "      <td>...</td>\n",
              "      <td>...</td>\n",
              "      <td>...</td>\n",
              "      <td>...</td>\n",
              "      <td>...</td>\n",
              "      <td>...</td>\n",
              "      <td>...</td>\n",
              "      <td>...</td>\n",
              "      <td>...</td>\n",
              "      <td>...</td>\n",
              "      <td>...</td>\n",
              "      <td>...</td>\n",
              "      <td>...</td>\n",
              "      <td>...</td>\n",
              "    </tr>\n",
              "    <tr>\n",
              "      <th>140</th>\n",
              "      <td>0.535714</td>\n",
              "      <td>0.901671</td>\n",
              "      <td>2.0</td>\n",
              "      <td>0.726223</td>\n",
              "      <td>1.065904</td>\n",
              "      <td>2.0</td>\n",
              "      <td>0.828571</td>\n",
              "      <td>1.158465</td>\n",
              "      <td>2.0</td>\n",
              "      <td>1.333700</td>\n",
              "      <td>...</td>\n",
              "      <td>1.307456</td>\n",
              "      <td>18.190</td>\n",
              "      <td>19.615</td>\n",
              "      <td>12.992857</td>\n",
              "      <td>4.000000</td>\n",
              "      <td>0.203926</td>\n",
              "      <td>7.0</td>\n",
              "      <td>0</td>\n",
              "      <td>0</td>\n",
              "      <td>2</td>\n",
              "    </tr>\n",
              "    <tr>\n",
              "      <th>141</th>\n",
              "      <td>1.203679</td>\n",
              "      <td>7.271267</td>\n",
              "      <td>2.0</td>\n",
              "      <td>0.806359</td>\n",
              "      <td>1.051167</td>\n",
              "      <td>2.0</td>\n",
              "      <td>1.125161</td>\n",
              "      <td>5.336005</td>\n",
              "      <td>2.0</td>\n",
              "      <td>0.991415</td>\n",
              "      <td>...</td>\n",
              "      <td>3.111200</td>\n",
              "      <td>15.725</td>\n",
              "      <td>15.805</td>\n",
              "      <td>20.078176</td>\n",
              "      <td>12.296296</td>\n",
              "      <td>0.126542</td>\n",
              "      <td>7.0</td>\n",
              "      <td>1</td>\n",
              "      <td>0</td>\n",
              "      <td>0</td>\n",
              "    </tr>\n",
              "    <tr>\n",
              "      <th>142</th>\n",
              "      <td>1.203679</td>\n",
              "      <td>7.271267</td>\n",
              "      <td>2.0</td>\n",
              "      <td>1.742432</td>\n",
              "      <td>2.171070</td>\n",
              "      <td>2.0</td>\n",
              "      <td>1.096593</td>\n",
              "      <td>5.194738</td>\n",
              "      <td>2.0</td>\n",
              "      <td>1.453454</td>\n",
              "      <td>...</td>\n",
              "      <td>3.111200</td>\n",
              "      <td>9.745</td>\n",
              "      <td>9.750</td>\n",
              "      <td>26.049698</td>\n",
              "      <td>12.823529</td>\n",
              "      <td>0.447941</td>\n",
              "      <td>7.0</td>\n",
              "      <td>1</td>\n",
              "      <td>0</td>\n",
              "      <td>0</td>\n",
              "    </tr>\n",
              "    <tr>\n",
              "      <th>143</th>\n",
              "      <td>1.441662</td>\n",
              "      <td>9.626876</td>\n",
              "      <td>2.0</td>\n",
              "      <td>0.905213</td>\n",
              "      <td>1.052363</td>\n",
              "      <td>2.0</td>\n",
              "      <td>1.150242</td>\n",
              "      <td>4.980676</td>\n",
              "      <td>2.0</td>\n",
              "      <td>1.360867</td>\n",
              "      <td>...</td>\n",
              "      <td>3.370755</td>\n",
              "      <td>14.770</td>\n",
              "      <td>14.775</td>\n",
              "      <td>18.845249</td>\n",
              "      <td>7.428571</td>\n",
              "      <td>0.263346</td>\n",
              "      <td>7.0</td>\n",
              "      <td>1</td>\n",
              "      <td>0</td>\n",
              "      <td>2</td>\n",
              "    </tr>\n",
              "    <tr>\n",
              "      <th>144</th>\n",
              "      <td>1.240876</td>\n",
              "      <td>8.437426</td>\n",
              "      <td>2.0</td>\n",
              "      <td>0.484935</td>\n",
              "      <td>0.862129</td>\n",
              "      <td>2.0</td>\n",
              "      <td>2.671533</td>\n",
              "      <td>4.150080</td>\n",
              "      <td>2.0</td>\n",
              "      <td>0.902835</td>\n",
              "      <td>...</td>\n",
              "      <td>3.370755</td>\n",
              "      <td>28.045</td>\n",
              "      <td>28.745</td>\n",
              "      <td>40.941606</td>\n",
              "      <td>8.514286</td>\n",
              "      <td>0.069577</td>\n",
              "      <td>7.0</td>\n",
              "      <td>0</td>\n",
              "      <td>0</td>\n",
              "      <td>2</td>\n",
              "    </tr>\n",
              "  </tbody>\n",
              "</table>\n",
              "<p>119 rows × 132 columns</p>\n",
              "</div>\n",
              "    <div class=\"colab-df-buttons\">\n",
              "\n",
              "  <div class=\"colab-df-container\">\n",
              "    <button class=\"colab-df-convert\" onclick=\"convertToInteractive('df-bc119df4-c12d-4daa-9009-b61607f86735')\"\n",
              "            title=\"Convert this dataframe to an interactive table.\"\n",
              "            style=\"display:none;\">\n",
              "\n",
              "  <svg xmlns=\"http://www.w3.org/2000/svg\" height=\"24px\" viewBox=\"0 -960 960 960\">\n",
              "    <path d=\"M120-120v-720h720v720H120Zm60-500h600v-160H180v160Zm220 220h160v-160H400v160Zm0 220h160v-160H400v160ZM180-400h160v-160H180v160Zm440 0h160v-160H620v160ZM180-180h160v-160H180v160Zm440 0h160v-160H620v160Z\"/>\n",
              "  </svg>\n",
              "    </button>\n",
              "\n",
              "  <style>\n",
              "    .colab-df-container {\n",
              "      display:flex;\n",
              "      gap: 12px;\n",
              "    }\n",
              "\n",
              "    .colab-df-convert {\n",
              "      background-color: #E8F0FE;\n",
              "      border: none;\n",
              "      border-radius: 50%;\n",
              "      cursor: pointer;\n",
              "      display: none;\n",
              "      fill: #1967D2;\n",
              "      height: 32px;\n",
              "      padding: 0 0 0 0;\n",
              "      width: 32px;\n",
              "    }\n",
              "\n",
              "    .colab-df-convert:hover {\n",
              "      background-color: #E2EBFA;\n",
              "      box-shadow: 0px 1px 2px rgba(60, 64, 67, 0.3), 0px 1px 3px 1px rgba(60, 64, 67, 0.15);\n",
              "      fill: #174EA6;\n",
              "    }\n",
              "\n",
              "    .colab-df-buttons div {\n",
              "      margin-bottom: 4px;\n",
              "    }\n",
              "\n",
              "    [theme=dark] .colab-df-convert {\n",
              "      background-color: #3B4455;\n",
              "      fill: #D2E3FC;\n",
              "    }\n",
              "\n",
              "    [theme=dark] .colab-df-convert:hover {\n",
              "      background-color: #434B5C;\n",
              "      box-shadow: 0px 1px 3px 1px rgba(0, 0, 0, 0.15);\n",
              "      filter: drop-shadow(0px 1px 2px rgba(0, 0, 0, 0.3));\n",
              "      fill: #FFFFFF;\n",
              "    }\n",
              "  </style>\n",
              "\n",
              "    <script>\n",
              "      const buttonEl =\n",
              "        document.querySelector('#df-bc119df4-c12d-4daa-9009-b61607f86735 button.colab-df-convert');\n",
              "      buttonEl.style.display =\n",
              "        google.colab.kernel.accessAllowed ? 'block' : 'none';\n",
              "\n",
              "      async function convertToInteractive(key) {\n",
              "        const element = document.querySelector('#df-bc119df4-c12d-4daa-9009-b61607f86735');\n",
              "        const dataTable =\n",
              "          await google.colab.kernel.invokeFunction('convertToInteractive',\n",
              "                                                    [key], {});\n",
              "        if (!dataTable) return;\n",
              "\n",
              "        const docLinkHtml = 'Like what you see? Visit the ' +\n",
              "          '<a target=\"_blank\" href=https://colab.research.google.com/notebooks/data_table.ipynb>data table notebook</a>'\n",
              "          + ' to learn more about interactive tables.';\n",
              "        element.innerHTML = '';\n",
              "        dataTable['output_type'] = 'display_data';\n",
              "        await google.colab.output.renderOutput(dataTable, element);\n",
              "        const docLink = document.createElement('div');\n",
              "        docLink.innerHTML = docLinkHtml;\n",
              "        element.appendChild(docLink);\n",
              "      }\n",
              "    </script>\n",
              "  </div>\n",
              "\n",
              "\n",
              "<div id=\"df-8bb83e01-7945-49de-8d86-ddc87737eceb\">\n",
              "  <button class=\"colab-df-quickchart\" onclick=\"quickchart('df-8bb83e01-7945-49de-8d86-ddc87737eceb')\"\n",
              "            title=\"Suggest charts\"\n",
              "            style=\"display:none;\">\n",
              "\n",
              "<svg xmlns=\"http://www.w3.org/2000/svg\" height=\"24px\"viewBox=\"0 0 24 24\"\n",
              "     width=\"24px\">\n",
              "    <g>\n",
              "        <path d=\"M19 3H5c-1.1 0-2 .9-2 2v14c0 1.1.9 2 2 2h14c1.1 0 2-.9 2-2V5c0-1.1-.9-2-2-2zM9 17H7v-7h2v7zm4 0h-2V7h2v10zm4 0h-2v-4h2v4z\"/>\n",
              "    </g>\n",
              "</svg>\n",
              "  </button>\n",
              "\n",
              "<style>\n",
              "  .colab-df-quickchart {\n",
              "      --bg-color: #E8F0FE;\n",
              "      --fill-color: #1967D2;\n",
              "      --hover-bg-color: #E2EBFA;\n",
              "      --hover-fill-color: #174EA6;\n",
              "      --disabled-fill-color: #AAA;\n",
              "      --disabled-bg-color: #DDD;\n",
              "  }\n",
              "\n",
              "  [theme=dark] .colab-df-quickchart {\n",
              "      --bg-color: #3B4455;\n",
              "      --fill-color: #D2E3FC;\n",
              "      --hover-bg-color: #434B5C;\n",
              "      --hover-fill-color: #FFFFFF;\n",
              "      --disabled-bg-color: #3B4455;\n",
              "      --disabled-fill-color: #666;\n",
              "  }\n",
              "\n",
              "  .colab-df-quickchart {\n",
              "    background-color: var(--bg-color);\n",
              "    border: none;\n",
              "    border-radius: 50%;\n",
              "    cursor: pointer;\n",
              "    display: none;\n",
              "    fill: var(--fill-color);\n",
              "    height: 32px;\n",
              "    padding: 0;\n",
              "    width: 32px;\n",
              "  }\n",
              "\n",
              "  .colab-df-quickchart:hover {\n",
              "    background-color: var(--hover-bg-color);\n",
              "    box-shadow: 0 1px 2px rgba(60, 64, 67, 0.3), 0 1px 3px 1px rgba(60, 64, 67, 0.15);\n",
              "    fill: var(--button-hover-fill-color);\n",
              "  }\n",
              "\n",
              "  .colab-df-quickchart-complete:disabled,\n",
              "  .colab-df-quickchart-complete:disabled:hover {\n",
              "    background-color: var(--disabled-bg-color);\n",
              "    fill: var(--disabled-fill-color);\n",
              "    box-shadow: none;\n",
              "  }\n",
              "\n",
              "  .colab-df-spinner {\n",
              "    border: 2px solid var(--fill-color);\n",
              "    border-color: transparent;\n",
              "    border-bottom-color: var(--fill-color);\n",
              "    animation:\n",
              "      spin 1s steps(1) infinite;\n",
              "  }\n",
              "\n",
              "  @keyframes spin {\n",
              "    0% {\n",
              "      border-color: transparent;\n",
              "      border-bottom-color: var(--fill-color);\n",
              "      border-left-color: var(--fill-color);\n",
              "    }\n",
              "    20% {\n",
              "      border-color: transparent;\n",
              "      border-left-color: var(--fill-color);\n",
              "      border-top-color: var(--fill-color);\n",
              "    }\n",
              "    30% {\n",
              "      border-color: transparent;\n",
              "      border-left-color: var(--fill-color);\n",
              "      border-top-color: var(--fill-color);\n",
              "      border-right-color: var(--fill-color);\n",
              "    }\n",
              "    40% {\n",
              "      border-color: transparent;\n",
              "      border-right-color: var(--fill-color);\n",
              "      border-top-color: var(--fill-color);\n",
              "    }\n",
              "    60% {\n",
              "      border-color: transparent;\n",
              "      border-right-color: var(--fill-color);\n",
              "    }\n",
              "    80% {\n",
              "      border-color: transparent;\n",
              "      border-right-color: var(--fill-color);\n",
              "      border-bottom-color: var(--fill-color);\n",
              "    }\n",
              "    90% {\n",
              "      border-color: transparent;\n",
              "      border-bottom-color: var(--fill-color);\n",
              "    }\n",
              "  }\n",
              "</style>\n",
              "\n",
              "  <script>\n",
              "    async function quickchart(key) {\n",
              "      const quickchartButtonEl =\n",
              "        document.querySelector('#' + key + ' button');\n",
              "      quickchartButtonEl.disabled = true;  // To prevent multiple clicks.\n",
              "      quickchartButtonEl.classList.add('colab-df-spinner');\n",
              "      try {\n",
              "        const charts = await google.colab.kernel.invokeFunction(\n",
              "            'suggestCharts', [key], {});\n",
              "      } catch (error) {\n",
              "        console.error('Error during call to suggestCharts:', error);\n",
              "      }\n",
              "      quickchartButtonEl.classList.remove('colab-df-spinner');\n",
              "      quickchartButtonEl.classList.add('colab-df-quickchart-complete');\n",
              "    }\n",
              "    (() => {\n",
              "      let quickchartButtonEl =\n",
              "        document.querySelector('#df-8bb83e01-7945-49de-8d86-ddc87737eceb button');\n",
              "      quickchartButtonEl.style.display =\n",
              "        google.colab.kernel.accessAllowed ? 'block' : 'none';\n",
              "    })();\n",
              "  </script>\n",
              "</div>\n",
              "    </div>\n",
              "  </div>\n"
            ],
            "application/vnd.google.colaboratory.intrinsic+json": {
              "type": "dataframe",
              "variable_name": "df"
            }
          },
          "metadata": {},
          "execution_count": 316
        }
      ]
    }
  ]
}